{
 "cells": [
  {
   "cell_type": "code",
   "execution_count": null,
   "metadata": {},
   "outputs": [],
   "source": [
    "from taipy import Gui, Config\n",
    "import pickle\n",
    "import numpy as np\n",
    "\n",
    "# Load your trained model\n",
    "with open('model.pkl', 'rb') as file:\n",
    "    model = pickle.load(file)\n",
    "\n",
    "# Define the layout of your application\n",
    "md = \"\"\"\n",
    "# Earthquake Damage Estimation App\n",
    "\n",
    "Enter the housing data to estimate the earthquake damage.\n",
    "\n",
    "Feature 1: ^[number](feature1)\n",
    "Feature 2: ^[number](feature2)\n",
    "Feature 3: ^[number](feature3)\n",
    "\n",
    "<button onclick=\"predict\">Predict Damage</button>\n",
    "\n",
    "Estimated Damage: ^[text](prediction)\n",
    "\"\"\"\n",
    "\n",
    "# Initialize global variables\n",
    "feature1 = feature2 = feature3 = 0\n",
    "prediction = \"\"\n",
    "\n",
    "# Define the prediction function\n",
    "def predict(state):\n",
    "    input_data = np.array([[state.feature1, state.feature2, state.feature3]])  # Adjust shape according to your model's input\n",
    "    state.prediction = str(model.predict(input_data)[0])\n",
    "\n",
    "# Create the GUI\n",
    "gui = Gui(md=md, predict=predict, feature1=feature1, feature2=feature2, feature3=feature3, prediction=prediction)\n",
    "\n",
    "# Run the application\n",
    "if __name__ == \"__main__\":\n",
    "    gui.run()\n"
   ]
  }
 ],
 "metadata": {
  "language_info": {
   "name": "python"
  }
 },
 "nbformat": 4,
 "nbformat_minor": 2
}
